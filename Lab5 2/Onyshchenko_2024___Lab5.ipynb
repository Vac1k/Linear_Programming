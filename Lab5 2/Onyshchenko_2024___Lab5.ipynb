{
  "nbformat": 4,
  "nbformat_minor": 0,
  "metadata": {
    "colab": {
      "provenance": []
    },
    "kernelspec": {
      "name": "python3",
      "display_name": "Python 3"
    },
    "language_info": {
      "name": "python"
    }
  },
  "cells": [
    {
      "cell_type": "code",
      "source": [
        "pip install pulp"
      ],
      "metadata": {
        "colab": {
          "base_uri": "https://localhost:8080/"
        },
        "id": "9vaOM3M8o_n_",
        "outputId": "d4274e21-6aa5-4997-b23e-8284606c0cec"
      },
      "execution_count": 2,
      "outputs": [
        {
          "output_type": "stream",
          "name": "stdout",
          "text": [
            "Collecting pulp\n",
            "  Downloading PuLP-2.9.0-py3-none-any.whl.metadata (5.4 kB)\n",
            "Downloading PuLP-2.9.0-py3-none-any.whl (17.7 MB)\n",
            "\u001b[2K   \u001b[90m━━━━━━━━━━━━━━━━━━━━━━━━━━━━━━━━━━━━━━━━\u001b[0m \u001b[32m17.7/17.7 MB\u001b[0m \u001b[31m48.5 MB/s\u001b[0m eta \u001b[36m0:00:00\u001b[0m\n",
            "\u001b[?25hInstalling collected packages: pulp\n",
            "Successfully installed pulp-2.9.0\n"
          ]
        }
      ]
    },
    {
      "cell_type": "code",
      "source": [
        "import numpy as np\n",
        "from pulp import LpProblem, LpMinimize, LpVariable, lpSum, LpStatus, value\n",
        "\n",
        "\n",
        "nutrient_contributions = np.array([\n",
        "    [3, 1, 1],  # Product 1\n",
        "    [1, 2, 0],  # Product 2\n",
        "    [1, 6, 0],  # Product 3\n",
        "])\n",
        "nutrient_requirements = np.array([9, 8, 12])\n",
        "product_costs = np.array([5, 6, 0])\n",
        "\n",
        "\n",
        "def validate_inputs(contributions, requirements, costs):\n",
        "    if not all(isinstance(arr, np.ndarray) for arr in [contributions, requirements, costs]):\n",
        "        raise TypeError(\"All inputs must be numpy arrays.\")\n",
        "    if contributions.ndim != 2 or requirements.ndim != 1 or costs.ndim != 1:\n",
        "        raise ValueError(\"Ensure contributions is 2D and requirements/costs are 1D.\")\n",
        "    if contributions.shape[0] != requirements.size or contributions.shape[1] != costs.size:\n",
        "        raise ValueError(\"Mismatch between input dimensions.\")\n",
        "    if any(arr.min() < 0 for arr in [requirements, costs, contributions.flatten()]):\n",
        "        raise ValueError(\"All input values must be non-negative.\")\n",
        "    if not all(np.isfinite(arr).all() for arr in [contributions, requirements, costs]):\n",
        "        raise ValueError(\"All input values must be finite.\")\n",
        "\n",
        "validate_inputs(nutrient_contributions, nutrient_requirements, product_costs)\n",
        "\n",
        "\n",
        "problem = LpProblem(\"Nutrient_Optimization\", LpMinimize)\n",
        "\n",
        "\n",
        "product_quantities = [\n",
        "    LpVariable(f\"Product_{i+1}\", lowBound=0, cat=\"Continuous\")\n",
        "    for i in range(len(product_costs))\n",
        "]\n",
        "\n",
        "\n",
        "problem += lpSum(product_costs[i] * product_quantities[i] for i in range(len(product_costs))), \"Total_Cost\"\n",
        "\n",
        "\n",
        "for idx, requirement in enumerate(nutrient_requirements):\n",
        "    problem += (\n",
        "        lpSum(nutrient_contributions[idx, i] * product_quantities[i] for i in range(len(product_costs))) >= requirement,\n",
        "        f\"Nutrient_{idx+1}_Requirement\"\n",
        "    )\n",
        "\n",
        "\n",
        "problem.solve()\n",
        "\n",
        "\n",
        "if LpStatus[problem.status] == \"Optimal\":\n",
        "    print(\"Optimal solution determined:\")\n",
        "    for var in product_quantities:\n",
        "        print(f\"Variable {var.name}: {var.varValue:.2f}\")\n",
        "    print(f\"Objective Function Value (Total Cost): {value(problem.objective):.2f}\")\n",
        "else:\n",
        "    print(\"Optimal solution not attained. Further analysis is required.\")\n",
        "\n"
      ],
      "metadata": {
        "colab": {
          "base_uri": "https://localhost:8080/"
        },
        "id": "T1iF1iugqWbk",
        "outputId": "ccf81ac8-d452-41f6-d80e-2d247bb55939"
      },
      "execution_count": 4,
      "outputs": [
        {
          "output_type": "stream",
          "name": "stdout",
          "text": [
            "Optimal solution determined:\n",
            "Variable Product_1: 0.00\n",
            "Variable Product_2: 4.00\n",
            "Variable Product_3: 5.00\n",
            "Objective Function Value (Total Cost): 24.00\n"
          ]
        }
      ]
    },
    {
      "cell_type": "code",
      "source": [
        "# Value type: choose between 'Continuous' or 'Integer'\n",
        "value_type_options = {'Continuous', 'Integer'};\n",
        "value_type = value_type_options{1};  # Change this to {2} for integer variables\n",
        "\n",
        "# Data\n",
        "nutrients_per_unit = [\n",
        "    1, 5;    # S1\n",
        "    3, 2;    # S2\n",
        "    2, 4;    # S3\n",
        "    2, 2;    # S4\n",
        "    1, 0     # S5\n",
        "];\n",
        "\n",
        "max_nutrients = [10; 12; 16; 10; 1];\n",
        "costs = [2; 3];\n",
        "\n",
        "# Number of products and nutrients\n",
        "[num_nutrients, num_products] = size(nutrients_per_unit);\n",
        "\n",
        "# Define the coefficients for the objective function (costs)\n",
        "c = costs;\n",
        "\n",
        "# Define the constraint matrix (nutrients_per_unit) and the RHS (max_nutrients)\n",
        "A = nutrients_per_unit;\n",
        "b = max_nutrients;\n",
        "\n",
        "# Lower bounds for decision variables (x >= 0)\n",
        "lb = zeros(num_products, 1);\n",
        "\n",
        "# Upper bounds (leave it unbounded by setting it to an empty matrix)\n",
        "ub = [];\n",
        "\n",
        "# We want to minimize the objective function\n",
        "sense = 1;  # 1 = minimization\n",
        "\n",
        "# Define CTYPE: character vector to specify type of each constraint\n",
        "ctype = repmat('L', num_nutrients, 1);  # All constraints are lower bounds (Ax >= b)\n",
        "\n",
        "# Define VARTYPE based on value_type (continuous or integer)\n",
        "if strcmp(value_type, 'Continuous')\n",
        "    vartype = repmat('C', num_products, 1);  # Continuous variables\n",
        "else\n",
        "    vartype = repmat('I', num_products, 1);  # Integer variables\n",
        "end\n",
        "\n",
        "# Solve the linear programming problem using glpk\n",
        "[x, fval, exitflag] = glpk(c, A, b, lb, ub, ctype, vartype, sense);\n",
        "\n",
        "# Display the results\n",
        "if exitflag == 0\n",
        "    disp('Status: Optimal solution found');\n",
        "    for i = 1:num_products\n",
        "        fprintf('x%d = %.4f\\n', i, x(i));\n",
        "    end\n",
        "    fprintf('Total Cost of the diet: %.4f\\n', fval);\n",
        "else\n",
        "    disp('Problem not solved');\n",
        "end\n"
      ],
      "metadata": {
        "id": "0PjalH13HMjT"
      },
      "execution_count": null,
      "outputs": []
    }
  ]
}